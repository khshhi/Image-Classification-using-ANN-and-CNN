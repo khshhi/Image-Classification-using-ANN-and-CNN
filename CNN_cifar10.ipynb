{
  "nbformat": 4,
  "nbformat_minor": 0,
  "metadata": {
    "colab": {
      "provenance": []
    },
    "kernelspec": {
      "name": "python3",
      "display_name": "Python 3"
    },
    "language_info": {
      "name": "python"
    }
  },
  "cells": [
    {
      "cell_type": "code",
      "execution_count": 16,
      "metadata": {
        "id": "a1q3bxEP2Cie"
      },
      "outputs": [],
      "source": [
        "import numpy as np\n",
        "import pandas as pd\n",
        "import tensorflow as tf\n",
        "from tensorflow.keras import datasets,layers,models\n",
        "import matplotlib.pyplot as plt"
      ]
    },
    {
      "cell_type": "code",
      "source": [
        "(X_train,y_train),(X_test,y_test)=datasets.cifar10.load_data()\n",
        "X_train.shape"
      ],
      "metadata": {
        "colab": {
          "base_uri": "https://localhost:8080/"
        },
        "id": "RVcW89mK2Q1C",
        "outputId": "9c5b2522-1958-4ab9-b311-e6550861e663"
      },
      "execution_count": 17,
      "outputs": [
        {
          "output_type": "execute_result",
          "data": {
            "text/plain": [
              "(50000, 32, 32, 3)"
            ]
          },
          "metadata": {},
          "execution_count": 17
        }
      ]
    },
    {
      "cell_type": "code",
      "source": [
        "X_test.shape"
      ],
      "metadata": {
        "colab": {
          "base_uri": "https://localhost:8080/"
        },
        "id": "-ggTg4hv2WL8",
        "outputId": "3e00fd82-b50a-425a-f8c8-11354c036491"
      },
      "execution_count": 4,
      "outputs": [
        {
          "output_type": "execute_result",
          "data": {
            "text/plain": [
              "(10000, 32, 32, 3)"
            ]
          },
          "metadata": {},
          "execution_count": 4
        }
      ]
    },
    {
      "cell_type": "code",
      "source": [
        "y_train=y_train.reshape(-1,)\n",
        "y_train[0:5]"
      ],
      "metadata": {
        "colab": {
          "base_uri": "https://localhost:8080/"
        },
        "id": "UM1OnLw0_YCP",
        "outputId": "20459e71-8406-4006-c133-18059a8b6b04"
      },
      "execution_count": 8,
      "outputs": [
        {
          "output_type": "execute_result",
          "data": {
            "text/plain": [
              "array([6, 9, 9, 4, 1], dtype=uint8)"
            ]
          },
          "metadata": {},
          "execution_count": 8
        }
      ]
    },
    {
      "cell_type": "code",
      "source": [
        "classes=['airplanes', 'cars',' birds', 'cats', 'deer', 'dogs', 'frogs', 'horses', 'ships','trucks']"
      ],
      "metadata": {
        "id": "oNExNxQ5-14p"
      },
      "execution_count": 6,
      "outputs": []
    },
    {
      "cell_type": "code",
      "source": [
        "def pot_sample(X,y,index):\n",
        "  plt.figure(figsize=(14,2))\n",
        "  plt.imshow(X[index])\n",
        "  plt.xlabel(classes[y[index]])"
      ],
      "metadata": {
        "id": "y02gKq9q2ZuL"
      },
      "execution_count": 10,
      "outputs": []
    },
    {
      "cell_type": "code",
      "source": [
        "pot_sample(X_train,y_train,1)"
      ],
      "metadata": {
        "id": "1-HZvGEx5CLy",
        "colab": {
          "base_uri": "https://localhost:8080/",
          "height": 237
        },
        "outputId": "4b6ad7e6-8b9b-4e9f-f341-29cd7af188ac"
      },
      "execution_count": 11,
      "outputs": [
        {
          "output_type": "display_data",
          "data": {
            "text/plain": [
              "<Figure size 1400x200 with 1 Axes>"
            ],
            "image/png": "[encoded data removed]"
          },
          "metadata": {}
        }
      ]
    },
    {
      "cell_type": "code",
      "source": [
        "X_train=X_train/255\n",
        "X_test=X_test/255"
      ],
      "metadata": {
        "id": "-fkJ_SH-Aqsk"
      },
      "execution_count": 12,
      "outputs": []
    },
    {
      "cell_type": "code",
      "source": [
        "ann=models.Sequential([\n",
        "    layers.Flatten(input_shape=(32,32,3)),\n",
        "    layers.Dense(3000,activation='relu'),\n",
        "    layers.Dense(1000,activation='relu'),\n",
        "    layers.Dense(10,activation='sigmoid')\n",
        "])\n",
        "\n",
        "ann.compile(optimizer='SGD',loss='sparse_categorical_crossentropy',metrics=['accuracy'])\n",
        "\n",
        "ann.fit(X_train,y_train,epochs=5)"
      ],
      "metadata": {
        "colab": {
          "base_uri": "https://localhost:8080/"
        },
        "id": "m6kWr5H5A3q_",
        "outputId": "d026dc0c-c15d-4661-d0e8-270bc7e14c60"
      },
      "execution_count": 14,
      "outputs": [
        {
          "output_type": "stream",
          "name": "stdout",
          "text": [
            "Epoch 1/5\n",
            "1563/1563 [==============================] - 173s 110ms/step - loss: 1.8126 - accuracy: 0.3533\n",
            "Epoch 2/5\n",
            "1563/1563 [==============================] - 180s 115ms/step - loss: 1.6251 - accuracy: 0.4273\n",
            "Epoch 3/5\n",
            "1563/1563 [==============================] - 191s 122ms/step - loss: 1.5401 - accuracy: 0.4550\n",
            "Epoch 4/5\n",
            "1563/1563 [==============================] - 221s 142ms/step - loss: 1.4817 - accuracy: 0.4766\n",
            "Epoch 5/5\n",
            "1563/1563 [==============================] - 191s 122ms/step - loss: 1.4308 - accuracy: 0.4957\n"
          ]
        },
        {
          "output_type": "execute_result",
          "data": {
            "text/plain": [
              "<keras.callbacks.History at 0x7f7979ba9de0>"
            ]
          },
          "metadata": {},
          "execution_count": 14
        }
      ]
    },
    {
      "cell_type": "code",
      "source": [],
      "metadata": {
        "id": "7NVALTSqG6_c"
      },
      "execution_count": null,
      "outputs": []
    },
    {
      "cell_type": "code",
      "source": [
        "from sklearn.metrics import confusion_matrix, classification_report\n",
        "y_pred=ann.predict(X_test)\n",
        "y_predicted_classes=[np.argmax(element) for element in y_pred]\n",
        "\n",
        "print(\"Classification report is\",classification_report(y_test,y_predicted_classes))"
      ],
      "metadata": {
        "colab": {
          "base_uri": "https://localhost:8080/"
        },
        "id": "FKPdV_SpDiVY",
        "outputId": "cef45e83-2cb8-4533-f7c3-d76f68ce5805"
      },
      "execution_count": 15,
      "outputs": [
        {
          "output_type": "stream",
          "name": "stdout",
          "text": [
            "313/313 [==============================] - 13s 41ms/step\n",
            "Classification report is               precision    recall  f1-score   support\n",
            "\n",
            "           0       0.56      0.46      0.50      1000\n",
            "           1       0.58      0.61      0.59      1000\n",
            "           2       0.32      0.51      0.39      1000\n",
            "           3       0.33      0.45      0.38      1000\n",
            "           4       0.51      0.29      0.37      1000\n",
            "           5       0.62      0.13      0.21      1000\n",
            "           6       0.51      0.55      0.53      1000\n",
            "           7       0.72      0.34      0.46      1000\n",
            "           8       0.40      0.83      0.54      1000\n",
            "           9       0.56      0.42      0.48      1000\n",
            "\n",
            "    accuracy                           0.46     10000\n",
            "   macro avg       0.51      0.46      0.45     10000\n",
            "weighted avg       0.51      0.46      0.45     10000\n",
            "\n"
          ]
        }
      ]
    },
    {
      "cell_type": "code",
      "source": [
        "cnn=models.Sequential([\n",
        "    #cnn\n",
        "    layers.Conv2D(filters=32,kernel_size=(3,3),activation='relu',input_shape=(32,32,3)),\n",
        "    layers.MaxPooling2D((2,2)),\n",
        "\n",
        "    layers.Conv2D(filters=64,kernel_size=(3,3),activation='relu',input_shape=(32,32,3)),\n",
        "    layers.MaxPooling2D((2,2)),\n",
        "\n",
        "\n",
        "    #dense layer\n",
        "    layers.Flatten(),\n",
        "    layers.Dense(64,activation='relu'),\n",
        "    layers.Dense(10,activation='softmax')\n",
        "])\n",
        "\n",
        "cnn.compile(optimizer='adam',loss='sparse_categorical_crossentropy',metrics=['accuracy'])\n",
        "\n",
        "cnn.fit(X_train,y_train,epochs=10)"
      ],
      "metadata": {
        "colab": {
          "base_uri": "https://localhost:8080/"
        },
        "id": "Regw_W_EFPot",
        "outputId": "0da5d306-0ba7-4d20-fc76-f1f86e148379"
      },
      "execution_count": 18,
      "outputs": [
        {
          "output_type": "stream",
          "name": "stdout",
          "text": [
            "Epoch 1/10\n",
            "1563/1563 [==============================] - 93s 59ms/step - loss: 2.0941 - accuracy: 0.3473\n",
            "Epoch 2/10\n",
            "1563/1563 [==============================] - 86s 55ms/step - loss: 1.3652 - accuracy: 0.5136\n",
            "Epoch 3/10\n",
            "1563/1563 [==============================] - 84s 54ms/step - loss: 1.1959 - accuracy: 0.5831\n",
            "Epoch 4/10\n",
            "1563/1563 [==============================] - 108s 69ms/step - loss: 1.0754 - accuracy: 0.6286\n",
            "Epoch 5/10\n",
            "1563/1563 [==============================] - 77s 49ms/step - loss: 0.9879 - accuracy: 0.6566\n",
            "Epoch 6/10\n",
            "1563/1563 [==============================] - 82s 53ms/step - loss: 0.9167 - accuracy: 0.6823\n",
            "Epoch 7/10\n",
            "1563/1563 [==============================] - 81s 52ms/step - loss: 0.8545 - accuracy: 0.7024\n",
            "Epoch 8/10\n",
            "1563/1563 [==============================] - 77s 49ms/step - loss: 0.7971 - accuracy: 0.7259\n",
            "Epoch 9/10\n",
            "1563/1563 [==============================] - 76s 48ms/step - loss: 0.7494 - accuracy: 0.7405\n",
            "Epoch 10/10\n",
            "1563/1563 [==============================] - 77s 49ms/step - loss: 0.7105 - accuracy: 0.7525\n"
          ]
        },
        {
          "output_type": "execute_result",
          "data": {
            "text/plain": [
              "<keras.callbacks.History at 0x7f7982fba0b0>"
            ]
          },
          "metadata": {},
          "execution_count": 18
        }
      ]
    },
    {
      "cell_type": "code",
      "source": [
        "\n",
        "cnn.evaluate(X_test,y_test)\n"
      ],
      "metadata": {
        "colab": {
          "base_uri": "https://localhost:8080/"
        },
        "id": "KyyJh7G9JLGA",
        "outputId": "e1bab297-3f68-4f69-8b22-116fd825582e"
      },
      "execution_count": 19,
      "outputs": [
        {
          "output_type": "stream",
          "name": "stdout",
          "text": [
            "313/313 [==============================] - 5s 15ms/step - loss: 1.1573 - accuracy: 0.6431\n"
          ]
        },
        {
          "output_type": "execute_result",
          "data": {
            "text/plain": [
              "[1.1573481559753418, 0.6431000232696533]"
            ]
          },
          "metadata": {},
          "execution_count": 19
        }
      ]
    },
    {
      "cell_type": "code",
      "source": [
        "from sklearn.metrics import confusion_matrix, classification_report\n",
        "y_cnn_pred=cnn.predict(X_test)\n",
        "y_cnn_predicted_classes=[np.argmax(element) for element in y_cnn_pred]\n",
        "\n",
        "print(\"Classification report for cnn model is\",classification_report(y_test,y_cnn_predicted_classes))"
      ],
      "metadata": {
        "colab": {
          "base_uri": "https://localhost:8080/"
        },
        "id": "IE7T6SKEN5-7",
        "outputId": "51df435b-b587-4f3e-c1ba-b2acc0ccdb9b"
      },
      "execution_count": 20,
      "outputs": [
        {
          "output_type": "stream",
          "name": "stdout",
          "text": [
            "313/313 [==============================] - 8s 26ms/step\n",
            "Classification report for cnn model is               precision    recall  f1-score   support\n",
            "\n",
            "           0       0.62      0.73      0.67      1000\n",
            "           1       0.73      0.82      0.77      1000\n",
            "           2       0.55      0.54      0.54      1000\n",
            "           3       0.43      0.48      0.46      1000\n",
            "           4       0.54      0.64      0.59      1000\n",
            "           5       0.56      0.53      0.55      1000\n",
            "           6       0.84      0.61      0.70      1000\n",
            "           7       0.78      0.64      0.70      1000\n",
            "           8       0.74      0.72      0.73      1000\n",
            "           9       0.75      0.71      0.73      1000\n",
            "\n",
            "    accuracy                           0.64     10000\n",
            "   macro avg       0.65      0.64      0.64     10000\n",
            "weighted avg       0.65      0.64      0.64     10000\n",
            "\n"
          ]
        }
      ]
    },
    {
      "cell_type": "code",
      "source": [
        "y_cnn_predicted_classes[0:10]"
      ],
      "metadata": {
        "colab": {
          "base_uri": "https://localhost:8080/"
        },
        "id": "7PfYl03PQTlp",
        "outputId": "48dcbdad-7fa5-4faf-c54b-b16077938ed2"
      },
      "execution_count": 24,
      "outputs": [
        {
          "output_type": "execute_result",
          "data": {
            "text/plain": [
              "[3, 1, 0, 0, 6, 6, 1, 6, 3, 1]"
            ]
          },
          "metadata": {},
          "execution_count": 24
        }
      ]
    },
    {
      "cell_type": "code",
      "source": [
        "y_test[0:10]"
      ],
      "metadata": {
        "colab": {
          "base_uri": "https://localhost:8080/"
        },
        "id": "FjhdZH13QamK",
        "outputId": "a7b988a6-1c21-4692-d6ee-bea5d4d7f43b"
      },
      "execution_count": 23,
      "outputs": [
        {
          "output_type": "execute_result",
          "data": {
            "text/plain": [
              "array([[3],\n",
              "       [8],\n",
              "       [8],\n",
              "       [0],\n",
              "       [6],\n",
              "       [6],\n",
              "       [1],\n",
              "       [6],\n",
              "       [3],\n",
              "       [1]], dtype=uint8)"
            ]
          },
          "metadata": {},
          "execution_count": 23
        }
      ]
    },
    {
      "cell_type": "code",
      "source": [
        "classes[y_cnn_predicted_classes[0]]"
      ],
      "metadata": {
        "colab": {
          "base_uri": "https://localhost:8080/",
          "height": 36
        },
        "id": "ET49cAkzTx5j",
        "outputId": "733aa381-cc9d-44bf-9820-ab9490e8cb6f"
      },
      "execution_count": 25,
      "outputs": [
        {
          "output_type": "execute_result",
          "data": {
            "text/plain": [
              "'cats'"
            ],
            "application/vnd.google.colaboratory.intrinsic+json": {
              "type": "string"
            }
          },
          "metadata": {},
          "execution_count": 25
        }
      ]
    },
    {
      "cell_type": "code",
      "source": [
        "pot_sample(X_train,y_train,3)"
      ],
      "metadata": {
        "colab": {
          "base_uri": "https://localhost:8080/",
          "height": 451
        },
        "id": "5VX6FAS1UtQe",
        "outputId": "5ef17f56-7c99-454d-d8f7-85d73dc27736"
      },
      "execution_count": 27,
      "outputs": [
        {
          "output_type": "error",
          "ename": "TypeError",
          "evalue": "ignored",
          "traceback": [
            "\u001b[0;31m---------------------------------------------------------------------------\u001b[0m",
            "\u001b[0;31mTypeError\u001b[0m                                 Traceback (most recent call last)",
            "\u001b[0;32m<ipython-input-27-2cad71c850a5>\u001b[0m in \u001b[0;36m<cell line: 1>\u001b[0;34m()\u001b[0m\n\u001b[0;32m----> 1\u001b[0;31m \u001b[0mpot_sample\u001b[0m\u001b[0;34m(\u001b[0m\u001b[0mX_train\u001b[0m\u001b[0;34m,\u001b[0m\u001b[0my_train\u001b[0m\u001b[0;34m,\u001b[0m\u001b[0;36m3\u001b[0m\u001b[0;34m)\u001b[0m\u001b[0;34m\u001b[0m\u001b[0;34m\u001b[0m\u001b[0m\n\u001b[0m",
            "\u001b[0;32m<ipython-input-10-42c3a3f1f986>\u001b[0m in \u001b[0;36mpot_sample\u001b[0;34m(X, y, index)\u001b[0m\n\u001b[1;32m      2\u001b[0m   \u001b[0mplt\u001b[0m\u001b[0;34m.\u001b[0m\u001b[0mfigure\u001b[0m\u001b[0;34m(\u001b[0m\u001b[0mfigsize\u001b[0m\u001b[0;34m=\u001b[0m\u001b[0;34m(\u001b[0m\u001b[0;36m14\u001b[0m\u001b[0;34m,\u001b[0m\u001b[0;36m2\u001b[0m\u001b[0;34m)\u001b[0m\u001b[0;34m)\u001b[0m\u001b[0;34m\u001b[0m\u001b[0;34m\u001b[0m\u001b[0m\n\u001b[1;32m      3\u001b[0m   \u001b[0mplt\u001b[0m\u001b[0;34m.\u001b[0m\u001b[0mimshow\u001b[0m\u001b[0;34m(\u001b[0m\u001b[0mX\u001b[0m\u001b[0;34m[\u001b[0m\u001b[0mindex\u001b[0m\u001b[0;34m]\u001b[0m\u001b[0;34m)\u001b[0m\u001b[0;34m\u001b[0m\u001b[0;34m\u001b[0m\u001b[0m\n\u001b[0;32m----> 4\u001b[0;31m   \u001b[0mplt\u001b[0m\u001b[0;34m.\u001b[0m\u001b[0mxlabel\u001b[0m\u001b[0;34m(\u001b[0m\u001b[0mclasses\u001b[0m\u001b[0;34m[\u001b[0m\u001b[0my\u001b[0m\u001b[0;34m[\u001b[0m\u001b[0mindex\u001b[0m\u001b[0;34m]\u001b[0m\u001b[0;34m]\u001b[0m\u001b[0;34m)\u001b[0m\u001b[0;34m\u001b[0m\u001b[0;34m\u001b[0m\u001b[0m\n\u001b[0m",
            "\u001b[0;31mTypeError\u001b[0m: only integer scalar arrays can be converted to a scalar index"
          ]
        },
        {
          "output_type": "display_data",
          "data": {
            "text/plain": [
              "<Figure size 1400x200 with 1 Axes>"
            ],
            "image/png": "[encoded data removed]"
          },
          "metadata": {}
        }
      ]
    }
  ]
}